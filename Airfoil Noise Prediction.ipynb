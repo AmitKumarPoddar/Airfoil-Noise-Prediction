{
 "cells": [
  {
   "cell_type": "code",
   "execution_count": 2,
   "id": "b72121e0",
   "metadata": {},
   "outputs": [],
   "source": [
    "import pandas as pd\n",
    "import matplotlib.pyplot as plt\n",
    "import numpy as np"
   ]
  },
  {
   "cell_type": "code",
   "execution_count": 3,
   "id": "389afd6a",
   "metadata": {},
   "outputs": [
    {
     "data": {
      "text/plain": [
       "(1503, 6)"
      ]
     },
     "execution_count": 3,
     "metadata": {},
     "output_type": "execute_result"
    }
   ],
   "source": [
    "df= pd.read_csv(\"AirfoilSelfNoise.csv\")\n",
    "df.head(10)\n",
    "df.shape"
   ]
  },
  {
   "cell_type": "code",
   "execution_count": 4,
   "id": "495c1ef1",
   "metadata": {},
   "outputs": [
    {
     "data": {
      "text/html": [
       "<div>\n",
       "<style scoped>\n",
       "    .dataframe tbody tr th:only-of-type {\n",
       "        vertical-align: middle;\n",
       "    }\n",
       "\n",
       "    .dataframe tbody tr th {\n",
       "        vertical-align: top;\n",
       "    }\n",
       "\n",
       "    .dataframe thead th {\n",
       "        text-align: right;\n",
       "    }\n",
       "</style>\n",
       "<table border=\"1\" class=\"dataframe\">\n",
       "  <thead>\n",
       "    <tr style=\"text-align: right;\">\n",
       "      <th></th>\n",
       "      <th>f</th>\n",
       "      <th>alpha</th>\n",
       "      <th>c</th>\n",
       "      <th>U_infinity</th>\n",
       "      <th>delta</th>\n",
       "    </tr>\n",
       "  </thead>\n",
       "  <tbody>\n",
       "    <tr>\n",
       "      <th>0</th>\n",
       "      <td>800</td>\n",
       "      <td>0.0</td>\n",
       "      <td>0.3048</td>\n",
       "      <td>71.3</td>\n",
       "      <td>0.002663</td>\n",
       "    </tr>\n",
       "    <tr>\n",
       "      <th>1</th>\n",
       "      <td>1000</td>\n",
       "      <td>0.0</td>\n",
       "      <td>0.3048</td>\n",
       "      <td>71.3</td>\n",
       "      <td>0.002663</td>\n",
       "    </tr>\n",
       "    <tr>\n",
       "      <th>2</th>\n",
       "      <td>1250</td>\n",
       "      <td>0.0</td>\n",
       "      <td>0.3048</td>\n",
       "      <td>71.3</td>\n",
       "      <td>0.002663</td>\n",
       "    </tr>\n",
       "    <tr>\n",
       "      <th>3</th>\n",
       "      <td>1600</td>\n",
       "      <td>0.0</td>\n",
       "      <td>0.3048</td>\n",
       "      <td>71.3</td>\n",
       "      <td>0.002663</td>\n",
       "    </tr>\n",
       "    <tr>\n",
       "      <th>4</th>\n",
       "      <td>2000</td>\n",
       "      <td>0.0</td>\n",
       "      <td>0.3048</td>\n",
       "      <td>71.3</td>\n",
       "      <td>0.002663</td>\n",
       "    </tr>\n",
       "    <tr>\n",
       "      <th>5</th>\n",
       "      <td>2500</td>\n",
       "      <td>0.0</td>\n",
       "      <td>0.3048</td>\n",
       "      <td>71.3</td>\n",
       "      <td>0.002663</td>\n",
       "    </tr>\n",
       "    <tr>\n",
       "      <th>6</th>\n",
       "      <td>3150</td>\n",
       "      <td>0.0</td>\n",
       "      <td>0.3048</td>\n",
       "      <td>71.3</td>\n",
       "      <td>0.002663</td>\n",
       "    </tr>\n",
       "    <tr>\n",
       "      <th>7</th>\n",
       "      <td>4000</td>\n",
       "      <td>0.0</td>\n",
       "      <td>0.3048</td>\n",
       "      <td>71.3</td>\n",
       "      <td>0.002663</td>\n",
       "    </tr>\n",
       "    <tr>\n",
       "      <th>8</th>\n",
       "      <td>5000</td>\n",
       "      <td>0.0</td>\n",
       "      <td>0.3048</td>\n",
       "      <td>71.3</td>\n",
       "      <td>0.002663</td>\n",
       "    </tr>\n",
       "    <tr>\n",
       "      <th>9</th>\n",
       "      <td>6300</td>\n",
       "      <td>0.0</td>\n",
       "      <td>0.3048</td>\n",
       "      <td>71.3</td>\n",
       "      <td>0.002663</td>\n",
       "    </tr>\n",
       "  </tbody>\n",
       "</table>\n",
       "</div>"
      ],
      "text/plain": [
       "      f  alpha       c  U_infinity     delta\n",
       "0   800    0.0  0.3048        71.3  0.002663\n",
       "1  1000    0.0  0.3048        71.3  0.002663\n",
       "2  1250    0.0  0.3048        71.3  0.002663\n",
       "3  1600    0.0  0.3048        71.3  0.002663\n",
       "4  2000    0.0  0.3048        71.3  0.002663\n",
       "5  2500    0.0  0.3048        71.3  0.002663\n",
       "6  3150    0.0  0.3048        71.3  0.002663\n",
       "7  4000    0.0  0.3048        71.3  0.002663\n",
       "8  5000    0.0  0.3048        71.3  0.002663\n",
       "9  6300    0.0  0.3048        71.3  0.002663"
      ]
     },
     "execution_count": 4,
     "metadata": {},
     "output_type": "execute_result"
    }
   ],
   "source": [
    "y=df[\"SSPL\"]\n",
    "df.drop(\"SSPL\", inplace=True, axis= 1)\n",
    "x=df\n",
    "x.head(10)"
   ]
  },
  {
   "cell_type": "code",
   "execution_count": 5,
   "id": "f61d687e",
   "metadata": {},
   "outputs": [
    {
     "data": {
      "text/html": [
       "<div>\n",
       "<style scoped>\n",
       "    .dataframe tbody tr th:only-of-type {\n",
       "        vertical-align: middle;\n",
       "    }\n",
       "\n",
       "    .dataframe tbody tr th {\n",
       "        vertical-align: top;\n",
       "    }\n",
       "\n",
       "    .dataframe thead th {\n",
       "        text-align: right;\n",
       "    }\n",
       "</style>\n",
       "<table border=\"1\" class=\"dataframe\">\n",
       "  <thead>\n",
       "    <tr style=\"text-align: right;\">\n",
       "      <th></th>\n",
       "      <th>f</th>\n",
       "      <th>alpha</th>\n",
       "      <th>c</th>\n",
       "      <th>U_infinity</th>\n",
       "      <th>delta</th>\n",
       "    </tr>\n",
       "  </thead>\n",
       "  <tbody>\n",
       "    <tr>\n",
       "      <th>1044</th>\n",
       "      <td>500</td>\n",
       "      <td>4.8</td>\n",
       "      <td>0.0254</td>\n",
       "      <td>31.7</td>\n",
       "      <td>0.000931</td>\n",
       "    </tr>\n",
       "    <tr>\n",
       "      <th>323</th>\n",
       "      <td>2000</td>\n",
       "      <td>4.0</td>\n",
       "      <td>0.2286</td>\n",
       "      <td>55.5</td>\n",
       "      <td>0.004286</td>\n",
       "    </tr>\n",
       "    <tr>\n",
       "      <th>534</th>\n",
       "      <td>3150</td>\n",
       "      <td>2.7</td>\n",
       "      <td>0.1524</td>\n",
       "      <td>39.6</td>\n",
       "      <td>0.002948</td>\n",
       "    </tr>\n",
       "    <tr>\n",
       "      <th>1125</th>\n",
       "      <td>4000</td>\n",
       "      <td>12.7</td>\n",
       "      <td>0.0254</td>\n",
       "      <td>71.3</td>\n",
       "      <td>0.012181</td>\n",
       "    </tr>\n",
       "    <tr>\n",
       "      <th>748</th>\n",
       "      <td>8000</td>\n",
       "      <td>0.0</td>\n",
       "      <td>0.0508</td>\n",
       "      <td>55.5</td>\n",
       "      <td>0.000762</td>\n",
       "    </tr>\n",
       "    <tr>\n",
       "      <th>...</th>\n",
       "      <td>...</td>\n",
       "      <td>...</td>\n",
       "      <td>...</td>\n",
       "      <td>...</td>\n",
       "      <td>...</td>\n",
       "    </tr>\n",
       "    <tr>\n",
       "      <th>715</th>\n",
       "      <td>800</td>\n",
       "      <td>12.6</td>\n",
       "      <td>0.1524</td>\n",
       "      <td>39.6</td>\n",
       "      <td>0.058411</td>\n",
       "    </tr>\n",
       "    <tr>\n",
       "      <th>905</th>\n",
       "      <td>400</td>\n",
       "      <td>15.4</td>\n",
       "      <td>0.0508</td>\n",
       "      <td>39.6</td>\n",
       "      <td>0.028259</td>\n",
       "    </tr>\n",
       "    <tr>\n",
       "      <th>1096</th>\n",
       "      <td>6300</td>\n",
       "      <td>9.5</td>\n",
       "      <td>0.0254</td>\n",
       "      <td>39.6</td>\n",
       "      <td>0.004498</td>\n",
       "    </tr>\n",
       "    <tr>\n",
       "      <th>235</th>\n",
       "      <td>1250</td>\n",
       "      <td>0.0</td>\n",
       "      <td>0.2286</td>\n",
       "      <td>31.7</td>\n",
       "      <td>0.002724</td>\n",
       "    </tr>\n",
       "    <tr>\n",
       "      <th>1061</th>\n",
       "      <td>1600</td>\n",
       "      <td>9.5</td>\n",
       "      <td>0.0254</td>\n",
       "      <td>71.3</td>\n",
       "      <td>0.004207</td>\n",
       "    </tr>\n",
       "  </tbody>\n",
       "</table>\n",
       "<p>1007 rows × 5 columns</p>\n",
       "</div>"
      ],
      "text/plain": [
       "         f  alpha       c  U_infinity     delta\n",
       "1044   500    4.8  0.0254        31.7  0.000931\n",
       "323   2000    4.0  0.2286        55.5  0.004286\n",
       "534   3150    2.7  0.1524        39.6  0.002948\n",
       "1125  4000   12.7  0.0254        71.3  0.012181\n",
       "748   8000    0.0  0.0508        55.5  0.000762\n",
       "...    ...    ...     ...         ...       ...\n",
       "715    800   12.6  0.1524        39.6  0.058411\n",
       "905    400   15.4  0.0508        39.6  0.028259\n",
       "1096  6300    9.5  0.0254        39.6  0.004498\n",
       "235   1250    0.0  0.2286        31.7  0.002724\n",
       "1061  1600    9.5  0.0254        71.3  0.004207\n",
       "\n",
       "[1007 rows x 5 columns]"
      ]
     },
     "execution_count": 5,
     "metadata": {},
     "output_type": "execute_result"
    }
   ],
   "source": [
    "from sklearn.model_selection import train_test_split\n",
    "from sklearn.metrics import r2_score, mean_squared_error, mean_absolute_error\n",
    "x_train,x_test,y_train,y_test=train_test_split(x,y,test_size=0.33, random_state=1)\n",
    "x_train"
   ]
  },
  {
   "cell_type": "code",
   "execution_count": 6,
   "id": "8816bc8a",
   "metadata": {},
   "outputs": [],
   "source": [
    "from sklearn.linear_model import LinearRegression\n",
    "model1=LinearRegression()\n",
    "model1= model1.fit(x_train,y_train)\n",
    "y_predict=model1.predict(x_test)"
   ]
  },
  {
   "cell_type": "code",
   "execution_count": 7,
   "id": "1e4b58a2",
   "metadata": {},
   "outputs": [
    {
     "data": {
      "text/plain": [
       "[<matplotlib.lines.Line2D at 0x1d4103f4520>]"
      ]
     },
     "execution_count": 7,
     "metadata": {},
     "output_type": "execute_result"
    },
    {
     "data": {
      "image/png": "[encoded data removed]",
      "text/plain": [
       "<Figure size 432x288 with 1 Axes>"
      ]
     },
     "metadata": {
      "needs_background": "light"
     },
     "output_type": "display_data"
    }
   ],
   "source": [
    "plt.scatter(y_test,y_predict,c=\"r\")\n",
    "plt.plot(y_test,y_test,c=\"b\")"
   ]
  },
  {
   "cell_type": "code",
   "execution_count": 8,
   "id": "a25f5a0c",
   "metadata": {},
   "outputs": [
    {
     "name": "stdout",
     "output_type": "stream",
     "text": [
      "0.4786831843871032 3.797301823526464 4.868216833884345\n"
     ]
    }
   ],
   "source": [
    "r2=r2_score(y_test,y_predict)\n",
    "mae=mean_absolute_error(y_test,y_predict)\n",
    "mse=np.sqrt(mean_squared_error(y_test,y_predict))\n",
    "print(r2, mae, mse)"
   ]
  },
  {
   "cell_type": "code",
   "execution_count": 9,
   "id": "482fd3a7",
   "metadata": {},
   "outputs": [],
   "source": [
    "from sklearn.linear_model import Ridge\n",
    "model2=Ridge()\n",
    "model2=model2.fit(x_train,y_train)\n",
    "y_predict2=model2.predict(x_test)"
   ]
  },
  {
   "cell_type": "code",
   "execution_count": 10,
   "id": "c5e4418a",
   "metadata": {},
   "outputs": [
    {
     "data": {
      "text/plain": [
       "[<matplotlib.lines.Line2D at 0x1d411094ac0>]"
      ]
     },
     "execution_count": 10,
     "metadata": {},
     "output_type": "execute_result"
    },
    {
     "data": {
      "image/png": "[encoded data removed]",
      "text/plain": [
       "<Figure size 432x288 with 1 Axes>"
      ]
     },
     "metadata": {
      "needs_background": "light"
     },
     "output_type": "display_data"
    }
   ],
   "source": [
    "plt.scatter(y_test,y_predict2,c=\"g\")\n",
    "plt.plot(y_test,y_test,c=\"b\")"
   ]
  },
  {
   "cell_type": "code",
   "execution_count": 11,
   "id": "54b26081",
   "metadata": {},
   "outputs": [
    {
     "name": "stdout",
     "output_type": "stream",
     "text": [
      "0.4608115854170187 3.9805716432325533 4.950958920852093\n"
     ]
    }
   ],
   "source": [
    "r2=r2_score(y_test,y_predict2)\n",
    "mae=mean_absolute_error(y_test,y_predict2)\n",
    "mse=np.sqrt(mean_squared_error(y_test,y_predict2))\n",
    "print(r2, mae, mse)"
   ]
  },
  {
   "cell_type": "code",
   "execution_count": 12,
   "id": "fdfd0982",
   "metadata": {},
   "outputs": [],
   "source": [
    "from sklearn.linear_model import Lasso\n",
    "model3=Lasso()\n",
    "model3=model3.fit(x_train,y_train)\n",
    "y_predict3=model3.predict(x_test)"
   ]
  },
  {
   "cell_type": "code",
   "execution_count": 13,
   "id": "5fa1d556",
   "metadata": {},
   "outputs": [
    {
     "data": {
      "text/plain": [
       "[<matplotlib.lines.Line2D at 0x1d411114610>]"
      ]
     },
     "execution_count": 13,
     "metadata": {},
     "output_type": "execute_result"
    },
    {
     "data": {
      "image/png": "[encoded data removed]",
      "text/plain": [
       "<Figure size 432x288 with 1 Axes>"
      ]
     },
     "metadata": {
      "needs_background": "light"
     },
     "output_type": "display_data"
    }
   ],
   "source": [
    "plt.scatter(y_predict3,y_test, c=\"y\")\n",
    "plt.plot(y_test,y_test,c=\"b\")"
   ]
  },
  {
   "cell_type": "code",
   "execution_count": 14,
   "id": "bbcf2550",
   "metadata": {},
   "outputs": [
    {
     "name": "stdout",
     "output_type": "stream",
     "text": [
      "0.2548724161645788 4.812064689189575 5.820152541428355\n"
     ]
    }
   ],
   "source": [
    "r2=r2_score(y_test,y_predict3)\n",
    "mae=mean_absolute_error(y_test,y_predict3)\n",
    "mse=np.sqrt(mean_squared_error(y_test,y_predict3))\n",
    "print(r2, mae, mse)"
   ]
  },
  {
   "cell_type": "code",
   "execution_count": 16,
   "id": "7b41f649",
   "metadata": {},
   "outputs": [],
   "source": [
    "from sklearn.linear_model import ElasticNet\n",
    "model4= ElasticNet()\n",
    "model4=model4.fit(x_train,y_train)\n",
    "y_predict4=model4.predict(x_test)"
   ]
  },
  {
   "cell_type": "code",
   "execution_count": 23,
   "id": "8e67df59",
   "metadata": {},
   "outputs": [
    {
     "data": {
      "text/plain": [
       "[<matplotlib.lines.Line2D at 0x1d414ced310>]"
      ]
     },
     "execution_count": 23,
     "metadata": {},
     "output_type": "execute_result"
    },
    {
     "data": {
      "image/png": "[encoded data removed]",
      "text/plain": [
       "<Figure size 432x288 with 1 Axes>"
      ]
     },
     "metadata": {
      "needs_background": "light"
     },
     "output_type": "display_data"
    }
   ],
   "source": [
    "plt.scatter(y_predict4,y_test,c=\"c\")\n",
    "plt.plot(y_test,y_test,c=\"b\")"
   ]
  },
  {
   "cell_type": "code",
   "execution_count": 24,
   "id": "94fab0cf",
   "metadata": {},
   "outputs": [
    {
     "name": "stdout",
     "output_type": "stream",
     "text": [
      "0.2546965153325792 4.818233907916723 5.820839476984029\n"
     ]
    }
   ],
   "source": [
    "r2=r2_score(y_test,y_predict4)\n",
    "mae=mean_absolute_error(y_test,y_predict4)\n",
    "mse=np.sqrt(mean_squared_error(y_test,y_predict4))\n",
    "print(r2, mae, mse)"
   ]
  },
  {
   "cell_type": "code",
   "execution_count": 26,
   "id": "9e167477",
   "metadata": {},
   "outputs": [],
   "source": [
    "from sklearn.preprocessing import PolynomialFeatures\n",
    "pf= PolynomialFeatures(degree=2)\n",
    "x_train_poly= pf.fit_transform(x_train)\n",
    "x_test_poly=pf.fit_transform(x_test)\n",
    "model5=LinearRegression()\n",
    "model5= model5.fit(x_train_poly,y_train)"
   ]
  },
  {
   "cell_type": "code",
   "execution_count": 27,
   "id": "d1054e4d",
   "metadata": {},
   "outputs": [
    {
     "name": "stdout",
     "output_type": "stream",
     "text": [
      "0.5828979946211983 3.291884224811625 4.35451895985168\n"
     ]
    }
   ],
   "source": [
    "y_predict5=model5.predict(x_test_poly)\n",
    "r2=r2_score(y_test,y_predict5)\n",
    "mae=mean_absolute_error(y_test,y_predict5)\n",
    "mse=np.sqrt(mean_squared_error(y_test,y_predict5))\n",
    "print(r2, mae, mse)"
   ]
  },
  {
   "cell_type": "code",
   "execution_count": 33,
   "id": "549697d7",
   "metadata": {},
   "outputs": [
    {
     "data": {
      "text/plain": [
       "[<matplotlib.lines.Line2D at 0x1d4153936d0>]"
      ]
     },
     "execution_count": 33,
     "metadata": {},
     "output_type": "execute_result"
    },
    {
     "data": {
      "image/png": "[encoded data removed]",
      "text/plain": [
       "<Figure size 432x288 with 1 Axes>"
      ]
     },
     "metadata": {
      "needs_background": "light"
     },
     "output_type": "display_data"
    }
   ],
   "source": [
    "plt.scatter(y_predict5,y_test, c=\"k\")\n",
    "plt.plot(y_test,y_test,c=\"b\")"
   ]
  },
  {
   "cell_type": "code",
   "execution_count": 34,
   "id": "de7f2a7d",
   "metadata": {},
   "outputs": [],
   "source": [
    "from sklearn.preprocessing import PolynomialFeatures\n",
    "pf3= PolynomialFeatures(degree=3)\n",
    "x_train_poly3= pf3.fit_transform(x_train)\n",
    "x_test_poly3=pf3.fit_transform(x_test)\n",
    "model6=LinearRegression()\n",
    "model6= model6.fit(x_train_poly3,y_train)"
   ]
  },
  {
   "cell_type": "code",
   "execution_count": 35,
   "id": "af45c0a6",
   "metadata": {},
   "outputs": [
    {
     "name": "stdout",
     "output_type": "stream",
     "text": [
      "0.6488989198624495 2.995490844388981 3.9951687653853076\n"
     ]
    }
   ],
   "source": [
    "y_predict6=model6.predict(x_test_poly3)\n",
    "r2=r2_score(y_test,y_predict6)\n",
    "mae=mean_absolute_error(y_test,y_predict6)\n",
    "mse=np.sqrt(mean_squared_error(y_test,y_predict6))\n",
    "print(r2, mae, mse)"
   ]
  },
  {
   "cell_type": "code",
   "execution_count": 36,
   "id": "c1188426",
   "metadata": {},
   "outputs": [
    {
     "data": {
      "text/plain": [
       "[<matplotlib.lines.Line2D at 0x1d4169281f0>]"
      ]
     },
     "execution_count": 36,
     "metadata": {},
     "output_type": "execute_result"
    },
    {
     "data": {
      "image/png": "[encoded data removed]",
      "text/plain": [
       "<Figure size 432x288 with 1 Axes>"
      ]
     },
     "metadata": {
      "needs_background": "light"
     },
     "output_type": "display_data"
    }
   ],
   "source": [
    "plt.scatter(y_predict6,y_test, c=\"m\")\n",
    "plt.plot(y_test,y_test,c=\"b\")"
   ]
  },
  {
   "cell_type": "code",
   "execution_count": 39,
   "id": "a5ab67de",
   "metadata": {},
   "outputs": [
    {
     "name": "stdout",
     "output_type": "stream",
     "text": [
      "-13.665452992156663 12.595511607034883 25.820627237171745\n"
     ]
    }
   ],
   "source": [
    "from sklearn.preprocessing import PolynomialFeatures\n",
    "pf4= PolynomialFeatures(degree=4)\n",
    "x_train_poly4= pf4.fit_transform(x_train)\n",
    "x_test_poly4=pf4.fit_transform(x_test)\n",
    "model7=LinearRegression()\n",
    "model7= model7.fit(x_train_poly4,y_train)\n",
    "y_predict7=model7.predict(x_test_poly4)\n",
    "r2=r2_score(y_test,y_predict7)\n",
    "mae=mean_absolute_error(y_test,y_predict7)\n",
    "mse=np.sqrt(mean_squared_error(y_test,y_predict7))\n",
    "print(r2, mae, mse)"
   ]
  },
  {
   "cell_type": "code",
   "execution_count": 38,
   "id": "cdf8e995",
   "metadata": {},
   "outputs": [
    {
     "data": {
      "text/plain": [
       "[<matplotlib.lines.Line2D at 0x1d416dbdfd0>]"
      ]
     },
     "execution_count": 38,
     "metadata": {},
     "output_type": "execute_result"
    },
    {
     "data": {
      "image/png": "[encoded data removed]",
      "text/plain": [
       "<Figure size 432x288 with 1 Axes>"
      ]
     },
     "metadata": {
      "needs_background": "light"
     },
     "output_type": "display_data"
    }
   ],
   "source": [
    "plt.scatter(y_predict7,y_test, c=\"r\")\n",
    "plt.plot(y_test,y_test,c=\"b\")"
   ]
  },
  {
   "cell_type": "code",
   "execution_count": 41,
   "id": "ed3ab353",
   "metadata": {},
   "outputs": [
    {
     "name": "stdout",
     "output_type": "stream",
     "text": [
      "0.8486146627149445 1.9347943548387094 2.6233784899653543\n"
     ]
    }
   ],
   "source": [
    "from sklearn.tree import DecisionTreeRegressor\n",
    "model8=DecisionTreeRegressor(random_state=1)\n",
    "model8=model8.fit(x_train,y_train)\n",
    "y_predict8=model8.predict(x_test)\n",
    "r2=r2_score(y_test,y_predict8)\n",
    "mae=mean_absolute_error(y_test,y_predict8)\n",
    "mse=np.sqrt(mean_squared_error(y_test,y_predict8))\n",
    "print(r2, mae, mse)"
   ]
  },
  {
   "cell_type": "code",
   "execution_count": 42,
   "id": "8ab0b49c",
   "metadata": {},
   "outputs": [
    {
     "data": {
      "text/plain": [
       "[<matplotlib.lines.Line2D at 0x1d416f7c3d0>]"
      ]
     },
     "execution_count": 42,
     "metadata": {},
     "output_type": "execute_result"
    },
    {
     "data": {
      "image/png": "[encoded data removed]",
      "text/plain": [
       "<Figure size 432x288 with 1 Axes>"
      ]
     },
     "metadata": {
      "needs_background": "light"
     },
     "output_type": "display_data"
    }
   ],
   "source": [
    "plt.scatter(y_predict8,y_test, c=\"r\")\n",
    "plt.plot(y_test,y_test,c=\"b\")"
   ]
  },
  {
   "cell_type": "code",
   "execution_count": 43,
   "id": "d0a1cfd1",
   "metadata": {},
   "outputs": [],
   "source": [
    "from sklearn.ensemble import RandomForestRegressor\n",
    "model9= RandomForestRegressor(max_depth=2,random_state=2,n_estimators=100)\n",
    "model9=model9.fit(x_train,y_train)\n",
    "y_predict9=model9.predict(x_test)"
   ]
  },
  {
   "cell_type": "code",
   "execution_count": 44,
   "id": "0f66e025",
   "metadata": {},
   "outputs": [
    {
     "name": "stdout",
     "output_type": "stream",
     "text": [
      "0.4287343086068214 4.138494543668923 5.096102071762588\n"
     ]
    }
   ],
   "source": [
    "r2=r2_score(y_test,y_predict9)\n",
    "mae=mean_absolute_error(y_test,y_predict9)\n",
    "mse=np.sqrt(mean_squared_error(y_test,y_predict9))\n",
    "print(r2, mae, mse)"
   ]
  },
  {
   "cell_type": "code",
   "execution_count": 45,
   "id": "e3ee7e73",
   "metadata": {},
   "outputs": [
    {
     "data": {
      "text/plain": [
       "[<matplotlib.lines.Line2D at 0x1d417111640>]"
      ]
     },
     "execution_count": 45,
     "metadata": {},
     "output_type": "execute_result"
    },
    {
     "data": {
      "image/png": "[encoded data removed]",
      "text/plain": [
       "<Figure size 432x288 with 1 Axes>"
      ]
     },
     "metadata": {
      "needs_background": "light"
     },
     "output_type": "display_data"
    }
   ],
   "source": [
    "plt.scatter(y_predict9,y_test, c=\"y\")\n",
    "plt.plot(y_test,y_test,c=\"b\")"
   ]
  },
  {
   "cell_type": "markdown",
   "id": "3c5f09f6",
   "metadata": {},
   "source": [
    "# Hence Decision Tree Regressor predicted with the best accuracy of 84.8%"
   ]
  },
  {
   "cell_type": "code",
   "execution_count": null,
   "id": "7aaef6ed",
   "metadata": {},
   "outputs": [],
   "source": []
  }
 ],
 "metadata": {
  "kernelspec": {
   "display_name": "Python 3 (ipykernel)",
   "language": "python",
   "name": "python3"
  },
  "language_info": {
   "codemirror_mode": {
    "name": "ipython",
    "version": 3
   },
   "file_extension": ".py",
   "mimetype": "text/x-python",
   "name": "python",
   "nbconvert_exporter": "python",
   "pygments_lexer": "ipython3",
   "version": "3.9.12"
  }
 },
 "nbformat": 4,
 "nbformat_minor": 5
}
